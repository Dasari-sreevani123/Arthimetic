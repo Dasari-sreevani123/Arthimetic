{
 "cells": [
  {
   "cell_type": "code",
   "execution_count": 2,
   "metadata": {},
   "outputs": [
    {
     "name": "stdout",
     "output_type": "stream",
     "text": [
      "Square root : 1.4142135623730951\n",
      "Square: 9\n",
      "Cube root: 1.2599210498948732\n"
     ]
    }
   ],
   "source": [
    "import math\n",
    "a = int(input(\"enter first number: \"))  #a=2\n",
    "b = int(input(\"enter second number: \")) #b=3\n",
    "c = int(input(\"enter third number: \"))  #c=4\n",
    "\n",
    "sqroot = math.sqrt(a)   \n",
    "square = b ** 2\n",
    "cb = c ** (1/6)\n",
    "\n",
    "print(\"Square root :\", sqroot)\n",
    "print(\"Square:\", square)\n",
    "print(\"Cube root:\", cb)"
   ]
  },
  {
   "cell_type": "code",
   "execution_count": 3,
   "metadata": {},
   "outputs": [
    {
     "name": "stdout",
     "output_type": "stream",
     "text": [
      "8\n"
     ]
    }
   ],
   "source": [
    "#power of a number\n",
    "base = int(input(\"Enter a number:\"))  #base=2\n",
    "expo = int(input(\"Enter a number:\"))   #expo=3\n",
    "total = pow(base,expo)\n",
    "print(total)"
   ]
  },
  {
   "cell_type": "code",
   "execution_count": 4,
   "metadata": {},
   "outputs": [
    {
     "name": "stdout",
     "output_type": "stream",
     "text": [
      "Multiplication Table of : \n",
      "12 x 1 = 12\n",
      "12 x 2 = 24\n",
      "12 x 3 = 36\n",
      "12 x 4 = 48\n",
      "12 x 5 = 60\n",
      "12 x 6 = 72\n",
      "12 x 7 = 84\n",
      "12 x 8 = 96\n",
      "12 x 9 = 108\n",
      "12 x 10 = 120\n"
     ]
    }
   ],
   "source": [
    "#multiples of a numbers/Tables\n",
    "num = int(input(\" Enter the number : \"))     #n=12\n",
    "print(\"Multiplication Table of : \")  \n",
    "for i in range(1,11):    \n",
    "    print(num,'x',i,'=',num * i)"
   ]
  }
 ],
 "metadata": {
  "kernelspec": {
   "display_name": "Python 3",
   "language": "python",
   "name": "python3"
  },
  "language_info": {
   "codemirror_mode": {
    "name": "ipython",
    "version": 3
   },
   "file_extension": ".py",
   "mimetype": "text/x-python",
   "name": "python",
   "nbconvert_exporter": "python",
   "pygments_lexer": "ipython3",
   "version": "3.12.4"
  }
 },
 "nbformat": 4,
 "nbformat_minor": 2
}
